{
 "cells": [
  {
   "cell_type": "markdown",
   "id": "ccaebed6",
   "metadata": {},
   "source": [
    "# Python Aufgabe "
   ]
  },
  {
   "cell_type": "code",
   "execution_count": 1,
   "id": "8dc0de33",
   "metadata": {},
   "outputs": [],
   "source": [
    "import urllib.request\n",
    "import pandas as pd"
   ]
  },
  {
   "cell_type": "markdown",
   "id": "ad967272",
   "metadata": {},
   "source": [
    "### Checkout Daten 2020 über API beziehen und als csv-Datei speichern"
   ]
  },
  {
   "cell_type": "code",
   "execution_count": 2,
   "id": "3fa4925b",
   "metadata": {},
   "outputs": [
    {
     "data": {
      "text/plain": [
       "('checkout_2020.csv', <http.client.HTTPMessage at 0x7fe0013dc400>)"
      ]
     },
     "execution_count": 2,
     "metadata": {},
     "output_type": "execute_result"
    }
   ],
   "source": [
    "url = \"https://data.seattle.gov/resource/tmmm-ytt6.csv?$where=checkoutyear=2020&$limit=10000\"\n",
    "checkout_file = \"checkout_2020.csv\"\n",
    "urllib.request.urlretrieve(url, checkout_file)"
   ]
  },
  {
   "cell_type": "markdown",
   "id": "4c69d67e",
   "metadata": {},
   "source": [
    "### DataFrame"
   ]
  },
  {
   "cell_type": "code",
   "execution_count": 3,
   "id": "f00b1f92",
   "metadata": {},
   "outputs": [],
   "source": [
    "checkout_df = pd.read_csv(checkout_file)"
   ]
  },
  {
   "cell_type": "code",
   "execution_count": 4,
   "id": "d58b1cde",
   "metadata": {},
   "outputs": [
    {
     "data": {
      "text/html": [
       "<div>\n",
       "<style scoped>\n",
       "    .dataframe tbody tr th:only-of-type {\n",
       "        vertical-align: middle;\n",
       "    }\n",
       "\n",
       "    .dataframe tbody tr th {\n",
       "        vertical-align: top;\n",
       "    }\n",
       "\n",
       "    .dataframe thead th {\n",
       "        text-align: right;\n",
       "    }\n",
       "</style>\n",
       "<table border=\"1\" class=\"dataframe\">\n",
       "  <thead>\n",
       "    <tr style=\"text-align: right;\">\n",
       "      <th></th>\n",
       "      <th>usageclass</th>\n",
       "      <th>checkouttype</th>\n",
       "      <th>materialtype</th>\n",
       "      <th>checkoutyear</th>\n",
       "      <th>checkoutmonth</th>\n",
       "      <th>checkouts</th>\n",
       "      <th>title</th>\n",
       "      <th>isbn</th>\n",
       "      <th>creator</th>\n",
       "      <th>subjects</th>\n",
       "      <th>publisher</th>\n",
       "      <th>publicationyear</th>\n",
       "    </tr>\n",
       "  </thead>\n",
       "  <tbody>\n",
       "    <tr>\n",
       "      <th>0</th>\n",
       "      <td>Physical</td>\n",
       "      <td>Horizon</td>\n",
       "      <td>BOOK</td>\n",
       "      <td>2020</td>\n",
       "      <td>8</td>\n",
       "      <td>1</td>\n",
       "      <td>Harvest / Sam Inglis.</td>\n",
       "      <td>NaN</td>\n",
       "      <td>Inglis, Sam</td>\n",
       "      <td>Young Neil 1945 Harvest</td>\n",
       "      <td>Continuum,</td>\n",
       "      <td>2003.</td>\n",
       "    </tr>\n",
       "    <tr>\n",
       "      <th>1</th>\n",
       "      <td>Digital</td>\n",
       "      <td>OverDrive</td>\n",
       "      <td>EBOOK</td>\n",
       "      <td>2020</td>\n",
       "      <td>8</td>\n",
       "      <td>1</td>\n",
       "      <td>The Race Beat</td>\n",
       "      <td>NaN</td>\n",
       "      <td>Gene Roberts</td>\n",
       "      <td>History, Nonfiction, Politics, Sociology</td>\n",
       "      <td>Random House, Inc.</td>\n",
       "      <td>2008</td>\n",
       "    </tr>\n",
       "    <tr>\n",
       "      <th>2</th>\n",
       "      <td>Digital</td>\n",
       "      <td>OverDrive</td>\n",
       "      <td>EBOOK</td>\n",
       "      <td>2020</td>\n",
       "      <td>8</td>\n",
       "      <td>5</td>\n",
       "      <td>I Can Cook Vegan</td>\n",
       "      <td>NaN</td>\n",
       "      <td>Isa Chandra Moskowitz</td>\n",
       "      <td>Cooking &amp; Food, Nonfiction</td>\n",
       "      <td>ABRAMS</td>\n",
       "      <td>2019</td>\n",
       "    </tr>\n",
       "    <tr>\n",
       "      <th>3</th>\n",
       "      <td>Digital</td>\n",
       "      <td>OverDrive</td>\n",
       "      <td>EBOOK</td>\n",
       "      <td>2020</td>\n",
       "      <td>8</td>\n",
       "      <td>1</td>\n",
       "      <td>Follow the Stars Home</td>\n",
       "      <td>NaN</td>\n",
       "      <td>Luanne Rice</td>\n",
       "      <td>Fiction, Romance</td>\n",
       "      <td>Random House, Inc.</td>\n",
       "      <td>2012</td>\n",
       "    </tr>\n",
       "    <tr>\n",
       "      <th>4</th>\n",
       "      <td>Digital</td>\n",
       "      <td>OverDrive</td>\n",
       "      <td>EBOOK</td>\n",
       "      <td>2020</td>\n",
       "      <td>8</td>\n",
       "      <td>1</td>\n",
       "      <td>Blood of Innocence</td>\n",
       "      <td>NaN</td>\n",
       "      <td>Tami Dane</td>\n",
       "      <td>Fantasy, Fiction, Romance</td>\n",
       "      <td>Lightning Source Inc</td>\n",
       "      <td>2012</td>\n",
       "    </tr>\n",
       "    <tr>\n",
       "      <th>...</th>\n",
       "      <td>...</td>\n",
       "      <td>...</td>\n",
       "      <td>...</td>\n",
       "      <td>...</td>\n",
       "      <td>...</td>\n",
       "      <td>...</td>\n",
       "      <td>...</td>\n",
       "      <td>...</td>\n",
       "      <td>...</td>\n",
       "      <td>...</td>\n",
       "      <td>...</td>\n",
       "      <td>...</td>\n",
       "    </tr>\n",
       "    <tr>\n",
       "      <th>9995</th>\n",
       "      <td>Physical</td>\n",
       "      <td>Horizon</td>\n",
       "      <td>BOOK</td>\n",
       "      <td>2020</td>\n",
       "      <td>1</td>\n",
       "      <td>3</td>\n",
       "      <td>Bicycle mystery / Gertrude Chandler Warner ; i...</td>\n",
       "      <td>NaN</td>\n",
       "      <td>Warner, Gertrude Chandler, 1890-1979</td>\n",
       "      <td>Boxcar children Fictitious characters Juvenile...</td>\n",
       "      <td>Albert Whitman,</td>\n",
       "      <td>[1970]</td>\n",
       "    </tr>\n",
       "    <tr>\n",
       "      <th>9996</th>\n",
       "      <td>Physical</td>\n",
       "      <td>Horizon</td>\n",
       "      <td>VIDEODISC</td>\n",
       "      <td>2020</td>\n",
       "      <td>1</td>\n",
       "      <td>9</td>\n",
       "      <td>The warrior tradition / CPB ; a co-production ...</td>\n",
       "      <td>NaN</td>\n",
       "      <td>NaN</td>\n",
       "      <td>United States Armed Forces Indians, Indians of...</td>\n",
       "      <td>PBS,</td>\n",
       "      <td>[2019]</td>\n",
       "    </tr>\n",
       "    <tr>\n",
       "      <th>9997</th>\n",
       "      <td>Digital</td>\n",
       "      <td>OverDrive</td>\n",
       "      <td>EBOOK</td>\n",
       "      <td>2020</td>\n",
       "      <td>1</td>\n",
       "      <td>1</td>\n",
       "      <td>How Come?: Every Kid's Science Questions Expla...</td>\n",
       "      <td>NaN</td>\n",
       "      <td>Kathy Wollard</td>\n",
       "      <td>Juvenile Nonfiction, Science, Technology</td>\n",
       "      <td>Workman Publishing</td>\n",
       "      <td>2015</td>\n",
       "    </tr>\n",
       "    <tr>\n",
       "      <th>9998</th>\n",
       "      <td>Digital</td>\n",
       "      <td>OverDrive</td>\n",
       "      <td>EBOOK</td>\n",
       "      <td>2020</td>\n",
       "      <td>1</td>\n",
       "      <td>7</td>\n",
       "      <td>A Spool of Blue Thread: A Novel</td>\n",
       "      <td>NaN</td>\n",
       "      <td>Anne Tyler</td>\n",
       "      <td>Fiction, Literature</td>\n",
       "      <td>Random House, Inc.</td>\n",
       "      <td>2015</td>\n",
       "    </tr>\n",
       "    <tr>\n",
       "      <th>9999</th>\n",
       "      <td>Digital</td>\n",
       "      <td>OverDrive</td>\n",
       "      <td>EBOOK</td>\n",
       "      <td>2020</td>\n",
       "      <td>1</td>\n",
       "      <td>3</td>\n",
       "      <td>The Space Between Us</td>\n",
       "      <td>NaN</td>\n",
       "      <td>Thrity Umrigar</td>\n",
       "      <td>Fiction, Literature</td>\n",
       "      <td>HarperCollins Publishers Inc.</td>\n",
       "      <td>2011</td>\n",
       "    </tr>\n",
       "  </tbody>\n",
       "</table>\n",
       "<p>10000 rows × 12 columns</p>\n",
       "</div>"
      ],
      "text/plain": [
       "     usageclass checkouttype materialtype  checkoutyear  checkoutmonth  \\\n",
       "0      Physical      Horizon         BOOK          2020              8   \n",
       "1       Digital    OverDrive        EBOOK          2020              8   \n",
       "2       Digital    OverDrive        EBOOK          2020              8   \n",
       "3       Digital    OverDrive        EBOOK          2020              8   \n",
       "4       Digital    OverDrive        EBOOK          2020              8   \n",
       "...         ...          ...          ...           ...            ...   \n",
       "9995   Physical      Horizon         BOOK          2020              1   \n",
       "9996   Physical      Horizon    VIDEODISC          2020              1   \n",
       "9997    Digital    OverDrive        EBOOK          2020              1   \n",
       "9998    Digital    OverDrive        EBOOK          2020              1   \n",
       "9999    Digital    OverDrive        EBOOK          2020              1   \n",
       "\n",
       "      checkouts                                              title  isbn  \\\n",
       "0             1                              Harvest / Sam Inglis.   NaN   \n",
       "1             1                                      The Race Beat   NaN   \n",
       "2             5                                   I Can Cook Vegan   NaN   \n",
       "3             1                              Follow the Stars Home   NaN   \n",
       "4             1                                 Blood of Innocence   NaN   \n",
       "...         ...                                                ...   ...   \n",
       "9995          3  Bicycle mystery / Gertrude Chandler Warner ; i...   NaN   \n",
       "9996          9  The warrior tradition / CPB ; a co-production ...   NaN   \n",
       "9997          1  How Come?: Every Kid's Science Questions Expla...   NaN   \n",
       "9998          7                    A Spool of Blue Thread: A Novel   NaN   \n",
       "9999          3                               The Space Between Us   NaN   \n",
       "\n",
       "                                   creator  \\\n",
       "0                              Inglis, Sam   \n",
       "1                             Gene Roberts   \n",
       "2                    Isa Chandra Moskowitz   \n",
       "3                              Luanne Rice   \n",
       "4                                Tami Dane   \n",
       "...                                    ...   \n",
       "9995  Warner, Gertrude Chandler, 1890-1979   \n",
       "9996                                   NaN   \n",
       "9997                         Kathy Wollard   \n",
       "9998                            Anne Tyler   \n",
       "9999                        Thrity Umrigar   \n",
       "\n",
       "                                               subjects  \\\n",
       "0                               Young Neil 1945 Harvest   \n",
       "1              History, Nonfiction, Politics, Sociology   \n",
       "2                            Cooking & Food, Nonfiction   \n",
       "3                                      Fiction, Romance   \n",
       "4                             Fantasy, Fiction, Romance   \n",
       "...                                                 ...   \n",
       "9995  Boxcar children Fictitious characters Juvenile...   \n",
       "9996  United States Armed Forces Indians, Indians of...   \n",
       "9997           Juvenile Nonfiction, Science, Technology   \n",
       "9998                                Fiction, Literature   \n",
       "9999                                Fiction, Literature   \n",
       "\n",
       "                          publisher publicationyear  \n",
       "0                        Continuum,           2003.  \n",
       "1                Random House, Inc.            2008  \n",
       "2                            ABRAMS            2019  \n",
       "3                Random House, Inc.            2012  \n",
       "4              Lightning Source Inc            2012  \n",
       "...                             ...             ...  \n",
       "9995                Albert Whitman,          [1970]  \n",
       "9996                           PBS,          [2019]  \n",
       "9997             Workman Publishing            2015  \n",
       "9998             Random House, Inc.            2015  \n",
       "9999  HarperCollins Publishers Inc.            2011  \n",
       "\n",
       "[10000 rows x 12 columns]"
      ]
     },
     "execution_count": 4,
     "metadata": {},
     "output_type": "execute_result"
    }
   ],
   "source": [
    "checkout_df"
   ]
  },
  {
   "cell_type": "markdown",
   "id": "0f7ccf29",
   "metadata": {},
   "source": [
    "### Überblick über die Daten"
   ]
  },
  {
   "cell_type": "code",
   "execution_count": 5,
   "id": "910b39d4",
   "metadata": {},
   "outputs": [
    {
     "name": "stdout",
     "output_type": "stream",
     "text": [
      "<class 'pandas.core.frame.DataFrame'>\n",
      "RangeIndex: 10000 entries, 0 to 9999\n",
      "Data columns (total 12 columns):\n",
      " #   Column           Non-Null Count  Dtype  \n",
      "---  ------           --------------  -----  \n",
      " 0   usageclass       10000 non-null  object \n",
      " 1   checkouttype     10000 non-null  object \n",
      " 2   materialtype     10000 non-null  object \n",
      " 3   checkoutyear     10000 non-null  int64  \n",
      " 4   checkoutmonth    10000 non-null  int64  \n",
      " 5   checkouts        10000 non-null  int64  \n",
      " 6   title            10000 non-null  object \n",
      " 7   isbn             0 non-null      float64\n",
      " 8   creator          8853 non-null   object \n",
      " 9   subjects         9944 non-null   object \n",
      " 10  publisher        9989 non-null   object \n",
      " 11  publicationyear  9987 non-null   object \n",
      "dtypes: float64(1), int64(3), object(8)\n",
      "memory usage: 937.6+ KB\n"
     ]
    }
   ],
   "source": [
    "checkout_df.info()"
   ]
  },
  {
   "cell_type": "code",
   "execution_count": 6,
   "id": "b2754133",
   "metadata": {},
   "outputs": [
    {
     "data": {
      "text/plain": [
       "(10000, 12)"
      ]
     },
     "execution_count": 6,
     "metadata": {},
     "output_type": "execute_result"
    }
   ],
   "source": [
    "checkout_df.shape"
   ]
  },
  {
   "cell_type": "code",
   "execution_count": 7,
   "id": "ac2facbd",
   "metadata": {},
   "outputs": [
    {
     "data": {
      "text/plain": [
       "10"
      ]
     },
     "execution_count": 7,
     "metadata": {},
     "output_type": "execute_result"
    }
   ],
   "source": [
    "checkout_df[\"checkoutmonth\"].max()"
   ]
  },
  {
   "cell_type": "code",
   "execution_count": 8,
   "id": "3fcb2a11",
   "metadata": {},
   "outputs": [
    {
     "data": {
      "text/plain": [
       "1"
      ]
     },
     "execution_count": 8,
     "metadata": {},
     "output_type": "execute_result"
    }
   ],
   "source": [
    "checkout_df[\"checkoutmonth\"].min()"
   ]
  },
  {
   "cell_type": "code",
   "execution_count": 9,
   "id": "1e332e07",
   "metadata": {},
   "outputs": [
    {
     "data": {
      "text/plain": [
       "546"
      ]
     },
     "execution_count": 9,
     "metadata": {},
     "output_type": "execute_result"
    }
   ],
   "source": [
    "checkout_df[\"checkouts\"].max()"
   ]
  },
  {
   "cell_type": "code",
   "execution_count": 10,
   "id": "6fa343a6",
   "metadata": {},
   "outputs": [
    {
     "data": {
      "text/plain": [
       "1"
      ]
     },
     "execution_count": 10,
     "metadata": {},
     "output_type": "execute_result"
    }
   ],
   "source": [
    "checkout_df[\"checkouts\"].min()"
   ]
  },
  {
   "cell_type": "code",
   "execution_count": 11,
   "id": "580e0192",
   "metadata": {},
   "outputs": [
    {
     "data": {
      "text/plain": [
       "2.0"
      ]
     },
     "execution_count": 11,
     "metadata": {},
     "output_type": "execute_result"
    }
   ],
   "source": [
    "checkout_df[\"checkouts\"].median()"
   ]
  },
  {
   "cell_type": "code",
   "execution_count": 12,
   "id": "03c514bf",
   "metadata": {},
   "outputs": [
    {
     "data": {
      "text/plain": [
       "array(['Physical', 'Digital'], dtype=object)"
      ]
     },
     "execution_count": 12,
     "metadata": {},
     "output_type": "execute_result"
    }
   ],
   "source": [
    "checkout_df[\"usageclass\"].unique()"
   ]
  },
  {
   "cell_type": "code",
   "execution_count": 13,
   "id": "476aa045",
   "metadata": {},
   "outputs": [
    {
     "data": {
      "text/plain": [
       "array(['BOOK', 'EBOOK', 'AUDIOBOOK', 'SOUNDDISC', 'CR', 'VIDEO',\n",
       "       'VIDEODISC', 'ER, SOUNDDISC', 'MUSIC', 'LARGEPRINT', 'REGPRINT',\n",
       "       'SOUNDDISC, VIDEODISC', 'VISUAL', 'ER'], dtype=object)"
      ]
     },
     "execution_count": 13,
     "metadata": {},
     "output_type": "execute_result"
    }
   ],
   "source": [
    "checkout_df[\"materialtype\"].unique()"
   ]
  },
  {
   "cell_type": "markdown",
   "id": "df4aae1f",
   "metadata": {},
   "source": [
    "checkout_df[\"materialtype\"].value_counts()"
   ]
  },
  {
   "cell_type": "code",
   "execution_count": 14,
   "id": "4ad882e3",
   "metadata": {},
   "outputs": [
    {
     "data": {
      "text/html": [
       "<div>\n",
       "<style scoped>\n",
       "    .dataframe tbody tr th:only-of-type {\n",
       "        vertical-align: middle;\n",
       "    }\n",
       "\n",
       "    .dataframe tbody tr th {\n",
       "        vertical-align: top;\n",
       "    }\n",
       "\n",
       "    .dataframe thead th {\n",
       "        text-align: right;\n",
       "    }\n",
       "</style>\n",
       "<table border=\"1\" class=\"dataframe\">\n",
       "  <thead>\n",
       "    <tr style=\"text-align: right;\">\n",
       "      <th></th>\n",
       "      <th>usageclass</th>\n",
       "      <th>checkouttype</th>\n",
       "      <th>materialtype</th>\n",
       "      <th>checkoutyear</th>\n",
       "      <th>checkoutmonth</th>\n",
       "      <th>checkouts</th>\n",
       "      <th>title</th>\n",
       "      <th>isbn</th>\n",
       "      <th>creator</th>\n",
       "      <th>subjects</th>\n",
       "      <th>publisher</th>\n",
       "      <th>publicationyear</th>\n",
       "    </tr>\n",
       "  </thead>\n",
       "  <tbody>\n",
       "    <tr>\n",
       "      <th>1173</th>\n",
       "      <td>Physical</td>\n",
       "      <td>Horizon</td>\n",
       "      <td>LARGEPRINT</td>\n",
       "      <td>2020</td>\n",
       "      <td>1</td>\n",
       "      <td>1</td>\n",
       "      <td>How secrets die : house of secrets / Marta Perry.</td>\n",
       "      <td>NaN</td>\n",
       "      <td>Perry, Marta</td>\n",
       "      <td>Amish Fiction, Reporters and reporting Fiction...</td>\n",
       "      <td>Center Point Large Print,</td>\n",
       "      <td>2019.</td>\n",
       "    </tr>\n",
       "    <tr>\n",
       "      <th>4939</th>\n",
       "      <td>Physical</td>\n",
       "      <td>Horizon</td>\n",
       "      <td>LARGEPRINT</td>\n",
       "      <td>2020</td>\n",
       "      <td>1</td>\n",
       "      <td>1</td>\n",
       "      <td>The never game / Jeffery Deaver.</td>\n",
       "      <td>NaN</td>\n",
       "      <td>Deaver, Jeffery</td>\n",
       "      <td>Private investigators Fiction, Missing persons...</td>\n",
       "      <td>Thorndike Press, a part of Gale, a Cengage Com...</td>\n",
       "      <td>2019.</td>\n",
       "    </tr>\n",
       "    <tr>\n",
       "      <th>8869</th>\n",
       "      <td>Physical</td>\n",
       "      <td>Horizon</td>\n",
       "      <td>LARGEPRINT</td>\n",
       "      <td>2020</td>\n",
       "      <td>1</td>\n",
       "      <td>2</td>\n",
       "      <td>Juror #3 / James Patterson and Nancy Allen.</td>\n",
       "      <td>NaN</td>\n",
       "      <td>Patterson, James, 1947-</td>\n",
       "      <td>Women lawyers Fiction, Trials Murder Fiction, ...</td>\n",
       "      <td>Little Brown &amp; Company,</td>\n",
       "      <td>2018.</td>\n",
       "    </tr>\n",
       "  </tbody>\n",
       "</table>\n",
       "</div>"
      ],
      "text/plain": [
       "     usageclass checkouttype materialtype  checkoutyear  checkoutmonth  \\\n",
       "1173   Physical      Horizon   LARGEPRINT          2020              1   \n",
       "4939   Physical      Horizon   LARGEPRINT          2020              1   \n",
       "8869   Physical      Horizon   LARGEPRINT          2020              1   \n",
       "\n",
       "      checkouts                                              title  isbn  \\\n",
       "1173          1  How secrets die : house of secrets / Marta Perry.   NaN   \n",
       "4939          1                   The never game / Jeffery Deaver.   NaN   \n",
       "8869          2        Juror #3 / James Patterson and Nancy Allen.   NaN   \n",
       "\n",
       "                      creator  \\\n",
       "1173             Perry, Marta   \n",
       "4939          Deaver, Jeffery   \n",
       "8869  Patterson, James, 1947-   \n",
       "\n",
       "                                               subjects  \\\n",
       "1173  Amish Fiction, Reporters and reporting Fiction...   \n",
       "4939  Private investigators Fiction, Missing persons...   \n",
       "8869  Women lawyers Fiction, Trials Murder Fiction, ...   \n",
       "\n",
       "                                              publisher publicationyear  \n",
       "1173                          Center Point Large Print,           2019.  \n",
       "4939  Thorndike Press, a part of Gale, a Cengage Com...           2019.  \n",
       "8869                            Little Brown & Company,           2018.  "
      ]
     },
     "execution_count": 14,
     "metadata": {},
     "output_type": "execute_result"
    }
   ],
   "source": [
    "checkout_df[checkout_df[\"materialtype\"] == \"LARGEPRINT\"]"
   ]
  },
  {
   "cell_type": "markdown",
   "id": "71758f8e",
   "metadata": {},
   "source": [
    "### Frage 1: Wie häufig wurde welcher Medientyp entliehen?"
   ]
  },
  {
   "cell_type": "code",
   "execution_count": 15,
   "id": "efee63c4",
   "metadata": {},
   "outputs": [
    {
     "data": {
      "text/plain": [
       "BOOK                    4537\n",
       "EBOOK                   2654\n",
       "AUDIOBOOK               1177\n",
       "VIDEODISC                834\n",
       "SOUNDDISC                736\n",
       "REGPRINT                  22\n",
       "MUSIC                     17\n",
       "VIDEO                      7\n",
       "SOUNDDISC, VIDEODISC       6\n",
       "CR                         4\n",
       "LARGEPRINT                 3\n",
       "ER, SOUNDDISC              1\n",
       "VISUAL                     1\n",
       "ER                         1\n",
       "Name: materialtype, dtype: int64"
      ]
     },
     "execution_count": 15,
     "metadata": {},
     "output_type": "execute_result"
    }
   ],
   "source": [
    "checkout_df[\"materialtype\"].value_counts()"
   ]
  },
  {
   "cell_type": "code",
   "execution_count": 16,
   "id": "98be0e21",
   "metadata": {},
   "outputs": [
    {
     "data": {
      "text/plain": [
       "<AxesSubplot:>"
      ]
     },
     "execution_count": 16,
     "metadata": {},
     "output_type": "execute_result"
    },
    {
     "data": {
      "image/png": "[encoded data removed]",
      "text/plain": [
       "<Figure size 640x480 with 1 Axes>"
      ]
     },
     "metadata": {},
     "output_type": "display_data"
    }
   ],
   "source": [
    "checkout_df[\"materialtype\"].value_counts().plot(kind=\"barh\")"
   ]
  },
  {
   "cell_type": "code",
   "execution_count": 44,
   "id": "d4f90234",
   "metadata": {},
   "outputs": [
    {
     "data": {
      "text/plain": [
       "<AxesSubplot:ylabel='materialtype'>"
      ]
     },
     "execution_count": 44,
     "metadata": {},
     "output_type": "execute_result"
    },
    {
     "data": {
      "image/png": "[encoded data removed]",
      "text/plain": [
       "<Figure size 640x480 with 1 Axes>"
      ]
     },
     "metadata": {},
     "output_type": "display_data"
    }
   ],
   "source": [
    "checkout_df[\"materialtype\"].value_counts().plot(kind=\"pie\", autopct='%1.1f%%')"
   ]
  },
  {
   "cell_type": "markdown",
   "id": "9bce44b2",
   "metadata": {},
   "source": [
    "### Frage 2: In welchem Monat gab es wie viele Entleihungen?"
   ]
  },
  {
   "cell_type": "code",
   "execution_count": 54,
   "id": "785589c5",
   "metadata": {},
   "outputs": [
    {
     "data": {
      "text/plain": [
       "1     9737\n",
       "2       10\n",
       "3        6\n",
       "4       71\n",
       "5      123\n",
       "8       46\n",
       "9        5\n",
       "10       2\n",
       "Name: checkoutmonth, dtype: int64"
      ]
     },
     "execution_count": 54,
     "metadata": {},
     "output_type": "execute_result"
    }
   ],
   "source": [
    "checkout_df[\"checkoutmonth\"].value_counts().sort_index()"
   ]
  },
  {
   "cell_type": "code",
   "execution_count": 55,
   "id": "77c61ae6",
   "metadata": {},
   "outputs": [
    {
     "data": {
      "text/plain": [
       "<AxesSubplot:>"
      ]
     },
     "execution_count": 55,
     "metadata": {},
     "output_type": "execute_result"
    },
    {
     "data": {
      "image/png": "[encoded data removed]",
      "text/plain": [
       "<Figure size 640x480 with 1 Axes>"
      ]
     },
     "metadata": {},
     "output_type": "display_data"
    }
   ],
   "source": [
    "checkout_df[\"checkoutmonth\"].value_counts().sort_index().plot(kind=\"bar\")"
   ]
  },
  {
   "cell_type": "markdown",
   "id": "b6d71fc2",
   "metadata": {},
   "source": [
    "### Frage 3: Welches Hörbuch wurde am häufigsten entliehen? "
   ]
  },
  {
   "cell_type": "code",
   "execution_count": 62,
   "id": "5e6664e0",
   "metadata": {},
   "outputs": [
    {
     "data": {
      "text/html": [
       "<div>\n",
       "<style scoped>\n",
       "    .dataframe tbody tr th:only-of-type {\n",
       "        vertical-align: middle;\n",
       "    }\n",
       "\n",
       "    .dataframe tbody tr th {\n",
       "        vertical-align: top;\n",
       "    }\n",
       "\n",
       "    .dataframe thead th {\n",
       "        text-align: right;\n",
       "    }\n",
       "</style>\n",
       "<table border=\"1\" class=\"dataframe\">\n",
       "  <thead>\n",
       "    <tr style=\"text-align: right;\">\n",
       "      <th></th>\n",
       "      <th>usageclass</th>\n",
       "      <th>checkouttype</th>\n",
       "      <th>materialtype</th>\n",
       "      <th>checkoutyear</th>\n",
       "      <th>checkoutmonth</th>\n",
       "      <th>checkouts</th>\n",
       "      <th>title</th>\n",
       "      <th>isbn</th>\n",
       "      <th>creator</th>\n",
       "      <th>subjects</th>\n",
       "      <th>publisher</th>\n",
       "      <th>publicationyear</th>\n",
       "    </tr>\n",
       "  </thead>\n",
       "  <tbody>\n",
       "    <tr>\n",
       "      <th>8</th>\n",
       "      <td>Digital</td>\n",
       "      <td>OverDrive</td>\n",
       "      <td>AUDIOBOOK</td>\n",
       "      <td>2020</td>\n",
       "      <td>8</td>\n",
       "      <td>1</td>\n",
       "      <td>Tales of Terror (Unabridged)</td>\n",
       "      <td>NaN</td>\n",
       "      <td>Edgar Allan Poe</td>\n",
       "      <td>Fiction, Mystery</td>\n",
       "      <td>Blackstone Audio, Inc.</td>\n",
       "      <td>2006</td>\n",
       "    </tr>\n",
       "    <tr>\n",
       "      <th>19</th>\n",
       "      <td>Digital</td>\n",
       "      <td>OverDrive</td>\n",
       "      <td>AUDIOBOOK</td>\n",
       "      <td>2020</td>\n",
       "      <td>8</td>\n",
       "      <td>3</td>\n",
       "      <td>Huckleberry Finn (Unabridged)</td>\n",
       "      <td>NaN</td>\n",
       "      <td>Mark Twain</td>\n",
       "      <td>Drama, Fiction</td>\n",
       "      <td>Random House Group Limited</td>\n",
       "      <td>2009</td>\n",
       "    </tr>\n",
       "    <tr>\n",
       "      <th>36</th>\n",
       "      <td>Digital</td>\n",
       "      <td>OverDrive</td>\n",
       "      <td>AUDIOBOOK</td>\n",
       "      <td>2020</td>\n",
       "      <td>8</td>\n",
       "      <td>1</td>\n",
       "      <td>The EARTH Book (Unabridged)</td>\n",
       "      <td>NaN</td>\n",
       "      <td>Todd Parr</td>\n",
       "      <td>Juvenile Nonfiction, Nature</td>\n",
       "      <td>Hachette Audio</td>\n",
       "      <td>2015</td>\n",
       "    </tr>\n",
       "    <tr>\n",
       "      <th>42</th>\n",
       "      <td>Digital</td>\n",
       "      <td>OverDrive</td>\n",
       "      <td>AUDIOBOOK</td>\n",
       "      <td>2020</td>\n",
       "      <td>8</td>\n",
       "      <td>1</td>\n",
       "      <td>Emerald Windows (Unabridged)</td>\n",
       "      <td>NaN</td>\n",
       "      <td>Terri Blackstock</td>\n",
       "      <td>Fiction, Literature</td>\n",
       "      <td>Zondervan</td>\n",
       "      <td>2013</td>\n",
       "    </tr>\n",
       "    <tr>\n",
       "      <th>55</th>\n",
       "      <td>Digital</td>\n",
       "      <td>OverDrive</td>\n",
       "      <td>AUDIOBOOK</td>\n",
       "      <td>2020</td>\n",
       "      <td>5</td>\n",
       "      <td>1</td>\n",
       "      <td>The New York Stories (Unabridged)</td>\n",
       "      <td>NaN</td>\n",
       "      <td>John O'Hara</td>\n",
       "      <td>Fiction, Literature</td>\n",
       "      <td>Books on Tape</td>\n",
       "      <td>2014</td>\n",
       "    </tr>\n",
       "    <tr>\n",
       "      <th>...</th>\n",
       "      <td>...</td>\n",
       "      <td>...</td>\n",
       "      <td>...</td>\n",
       "      <td>...</td>\n",
       "      <td>...</td>\n",
       "      <td>...</td>\n",
       "      <td>...</td>\n",
       "      <td>...</td>\n",
       "      <td>...</td>\n",
       "      <td>...</td>\n",
       "      <td>...</td>\n",
       "      <td>...</td>\n",
       "    </tr>\n",
       "    <tr>\n",
       "      <th>9948</th>\n",
       "      <td>Digital</td>\n",
       "      <td>OverDrive</td>\n",
       "      <td>AUDIOBOOK</td>\n",
       "      <td>2020</td>\n",
       "      <td>1</td>\n",
       "      <td>3</td>\n",
       "      <td>The Known World (Unabridged)</td>\n",
       "      <td>NaN</td>\n",
       "      <td>Edward P. Jones</td>\n",
       "      <td>African American Fiction, Fiction, Historical ...</td>\n",
       "      <td>HarperCollins Publishers Inc.</td>\n",
       "      <td>2005</td>\n",
       "    </tr>\n",
       "    <tr>\n",
       "      <th>9950</th>\n",
       "      <td>Digital</td>\n",
       "      <td>OverDrive</td>\n",
       "      <td>AUDIOBOOK</td>\n",
       "      <td>2020</td>\n",
       "      <td>1</td>\n",
       "      <td>44</td>\n",
       "      <td>Option B: Facing Adversity, Building Resilienc...</td>\n",
       "      <td>NaN</td>\n",
       "      <td>Sheryl Sandberg</td>\n",
       "      <td>Biography &amp; Autobiography, Business, Family &amp; ...</td>\n",
       "      <td>Books on Tape</td>\n",
       "      <td>2017</td>\n",
       "    </tr>\n",
       "    <tr>\n",
       "      <th>9951</th>\n",
       "      <td>Digital</td>\n",
       "      <td>OverDrive</td>\n",
       "      <td>AUDIOBOOK</td>\n",
       "      <td>2020</td>\n",
       "      <td>1</td>\n",
       "      <td>36</td>\n",
       "      <td>Buy It, Rent It, Profit!: Make Money as a Land...</td>\n",
       "      <td>NaN</td>\n",
       "      <td>Bryan M. Chavis</td>\n",
       "      <td>Business, Finance, Law, Nonfiction</td>\n",
       "      <td>Tantor Media, Inc</td>\n",
       "      <td>2017</td>\n",
       "    </tr>\n",
       "    <tr>\n",
       "      <th>9968</th>\n",
       "      <td>Digital</td>\n",
       "      <td>OverDrive</td>\n",
       "      <td>AUDIOBOOK</td>\n",
       "      <td>2020</td>\n",
       "      <td>1</td>\n",
       "      <td>1</td>\n",
       "      <td>Someone Comes to Town, Someone Leaves Town (Un...</td>\n",
       "      <td>NaN</td>\n",
       "      <td>Cory Doctorow</td>\n",
       "      <td>Fantasy, Fiction, Science Fiction</td>\n",
       "      <td>Blackstone Audio, Inc.</td>\n",
       "      <td>2015</td>\n",
       "    </tr>\n",
       "    <tr>\n",
       "      <th>9971</th>\n",
       "      <td>Digital</td>\n",
       "      <td>OverDrive</td>\n",
       "      <td>AUDIOBOOK</td>\n",
       "      <td>2020</td>\n",
       "      <td>1</td>\n",
       "      <td>1</td>\n",
       "      <td>Caroline Myss' Chakra Meditation Music (Unabri...</td>\n",
       "      <td>NaN</td>\n",
       "      <td>Caroline Myss</td>\n",
       "      <td>Nonfiction, Religion &amp; Spirituality</td>\n",
       "      <td>Sounds True, Inc</td>\n",
       "      <td>2009</td>\n",
       "    </tr>\n",
       "  </tbody>\n",
       "</table>\n",
       "<p>1177 rows × 12 columns</p>\n",
       "</div>"
      ],
      "text/plain": [
       "     usageclass checkouttype materialtype  checkoutyear  checkoutmonth  \\\n",
       "8       Digital    OverDrive    AUDIOBOOK          2020              8   \n",
       "19      Digital    OverDrive    AUDIOBOOK          2020              8   \n",
       "36      Digital    OverDrive    AUDIOBOOK          2020              8   \n",
       "42      Digital    OverDrive    AUDIOBOOK          2020              8   \n",
       "55      Digital    OverDrive    AUDIOBOOK          2020              5   \n",
       "...         ...          ...          ...           ...            ...   \n",
       "9948    Digital    OverDrive    AUDIOBOOK          2020              1   \n",
       "9950    Digital    OverDrive    AUDIOBOOK          2020              1   \n",
       "9951    Digital    OverDrive    AUDIOBOOK          2020              1   \n",
       "9968    Digital    OverDrive    AUDIOBOOK          2020              1   \n",
       "9971    Digital    OverDrive    AUDIOBOOK          2020              1   \n",
       "\n",
       "      checkouts                                              title  isbn  \\\n",
       "8             1                       Tales of Terror (Unabridged)   NaN   \n",
       "19            3                      Huckleberry Finn (Unabridged)   NaN   \n",
       "36            1                        The EARTH Book (Unabridged)   NaN   \n",
       "42            1                       Emerald Windows (Unabridged)   NaN   \n",
       "55            1                  The New York Stories (Unabridged)   NaN   \n",
       "...         ...                                                ...   ...   \n",
       "9948          3                       The Known World (Unabridged)   NaN   \n",
       "9950         44  Option B: Facing Adversity, Building Resilienc...   NaN   \n",
       "9951         36  Buy It, Rent It, Profit!: Make Money as a Land...   NaN   \n",
       "9968          1  Someone Comes to Town, Someone Leaves Town (Un...   NaN   \n",
       "9971          1  Caroline Myss' Chakra Meditation Music (Unabri...   NaN   \n",
       "\n",
       "               creator                                           subjects  \\\n",
       "8      Edgar Allan Poe                                   Fiction, Mystery   \n",
       "19          Mark Twain                                     Drama, Fiction   \n",
       "36           Todd Parr                        Juvenile Nonfiction, Nature   \n",
       "42    Terri Blackstock                                Fiction, Literature   \n",
       "55         John O'Hara                                Fiction, Literature   \n",
       "...                ...                                                ...   \n",
       "9948   Edward P. Jones  African American Fiction, Fiction, Historical ...   \n",
       "9950   Sheryl Sandberg  Biography & Autobiography, Business, Family & ...   \n",
       "9951   Bryan M. Chavis                 Business, Finance, Law, Nonfiction   \n",
       "9968     Cory Doctorow                  Fantasy, Fiction, Science Fiction   \n",
       "9971     Caroline Myss                Nonfiction, Religion & Spirituality   \n",
       "\n",
       "                          publisher publicationyear  \n",
       "8            Blackstone Audio, Inc.            2006  \n",
       "19       Random House Group Limited            2009  \n",
       "36                   Hachette Audio            2015  \n",
       "42                        Zondervan            2013  \n",
       "55                    Books on Tape            2014  \n",
       "...                             ...             ...  \n",
       "9948  HarperCollins Publishers Inc.            2005  \n",
       "9950                  Books on Tape            2017  \n",
       "9951              Tantor Media, Inc            2017  \n",
       "9968         Blackstone Audio, Inc.            2015  \n",
       "9971               Sounds True, Inc            2009  \n",
       "\n",
       "[1177 rows x 12 columns]"
      ]
     },
     "execution_count": 62,
     "metadata": {},
     "output_type": "execute_result"
    }
   ],
   "source": [
    "checkout_df[checkout_df[\"materialtype\"] == \"AUDIOBOOK\"]"
   ]
  },
  {
   "cell_type": "code",
   "execution_count": 67,
   "id": "2198d542",
   "metadata": {},
   "outputs": [
    {
     "data": {
      "text/plain": [
       "usageclass                                                   Digital\n",
       "checkouttype                                               OverDrive\n",
       "materialtype                                               AUDIOBOOK\n",
       "checkoutyear                                                    2020\n",
       "checkoutmonth                                                      8\n",
       "checkouts                                                        114\n",
       "title              Zoom: From Atoms and Galaxies to Blizzards and...\n",
       "isbn                                                             NaN\n",
       "creator                                              don Miguel Ruiz\n",
       "subjects                                      Young Adult Nonfiction\n",
       "publisher                                                  Zondervan\n",
       "publicationyear                                                 2020\n",
       "dtype: object"
      ]
     },
     "execution_count": 67,
     "metadata": {},
     "output_type": "execute_result"
    }
   ],
   "source": [
    "checkout_df[checkout_df[\"materialtype\"] == \"AUDIOBOOK\"].sort_values(\"checkouts\").max()"
   ]
  }
 ],
 "metadata": {
  "kernelspec": {
   "display_name": "Python 3 (ipykernel)",
   "language": "python",
   "name": "python3"
  },
  "language_info": {
   "codemirror_mode": {
    "name": "ipython",
    "version": 3
   },
   "file_extension": ".py",
   "mimetype": "text/x-python",
   "name": "python",
   "nbconvert_exporter": "python",
   "pygments_lexer": "ipython3",
   "version": "3.9.13"
  }
 },
 "nbformat": 4,
 "nbformat_minor": 5
}
